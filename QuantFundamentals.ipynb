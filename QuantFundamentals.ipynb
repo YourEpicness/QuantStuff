{
 "cells": [
  {
   "cell_type": "markdown",
   "id": "c05ffc95",
   "metadata": {},
   "source": [
    "# Quant Fundamentals"
   ]
  },
  {
   "cell_type": "code",
   "execution_count": 4,
   "id": "9290a830",
   "metadata": {},
   "outputs": [],
   "source": [
    "# The normal stuff\n",
    "import pandas as pd\n",
    "import numpy as np\n",
    "import matplotlib.pyplot as plt\n",
    "\n",
    "# Other important stuff\n",
    "import configparser"
   ]
  },
  {
   "cell_type": "code",
   "execution_count": 2,
   "id": "97e2f137",
   "metadata": {},
   "outputs": [],
   "source": [
    "# Nasdaq Data API\n",
    "import quandl as q"
   ]
  },
  {
   "cell_type": "code",
   "execution_count": 16,
   "id": "f08f38ec",
   "metadata": {},
   "outputs": [],
   "source": [
    "# Create config to store \"secret\" values such as api key\n",
    "config = configparser.ConfigParser()\n",
    "config.read('./quant.cfg')\n",
    "\n",
    "# Store the api key permanently\n",
    "q.ApiConfig.api_key = config['quandl']['api_key']"
   ]
  },
  {
   "cell_type": "markdown",
   "id": "041e2270",
   "metadata": {},
   "source": [
    "### Grabbing data from Nasdaq API"
   ]
  },
  {
   "cell_type": "code",
   "execution_count": 7,
   "id": "a5a928f3",
   "metadata": {},
   "outputs": [
    {
     "data": {
      "text/html": [
       "<div>\n",
       "<style scoped>\n",
       "    .dataframe tbody tr th:only-of-type {\n",
       "        vertical-align: middle;\n",
       "    }\n",
       "\n",
       "    .dataframe tbody tr th {\n",
       "        vertical-align: top;\n",
       "    }\n",
       "\n",
       "    .dataframe thead th {\n",
       "        text-align: right;\n",
       "    }\n",
       "</style>\n",
       "<table border=\"1\" class=\"dataframe\">\n",
       "  <thead>\n",
       "    <tr style=\"text-align: right;\">\n",
       "      <th></th>\n",
       "      <th>Value</th>\n",
       "    </tr>\n",
       "    <tr>\n",
       "      <th>Date</th>\n",
       "      <th></th>\n",
       "    </tr>\n",
       "  </thead>\n",
       "  <tbody>\n",
       "    <tr>\n",
       "      <th>2009-01-02</th>\n",
       "      <td>0.00</td>\n",
       "    </tr>\n",
       "    <tr>\n",
       "      <th>2009-01-03</th>\n",
       "      <td>0.00</td>\n",
       "    </tr>\n",
       "    <tr>\n",
       "      <th>2009-01-04</th>\n",
       "      <td>0.00</td>\n",
       "    </tr>\n",
       "    <tr>\n",
       "      <th>2009-01-05</th>\n",
       "      <td>0.00</td>\n",
       "    </tr>\n",
       "    <tr>\n",
       "      <th>2009-01-06</th>\n",
       "      <td>0.00</td>\n",
       "    </tr>\n",
       "    <tr>\n",
       "      <th>...</th>\n",
       "      <td>...</td>\n",
       "    </tr>\n",
       "    <tr>\n",
       "      <th>2021-12-24</th>\n",
       "      <td>50785.69</td>\n",
       "    </tr>\n",
       "    <tr>\n",
       "      <th>2021-12-25</th>\n",
       "      <td>50814.92</td>\n",
       "    </tr>\n",
       "    <tr>\n",
       "      <th>2021-12-26</th>\n",
       "      <td>50470.89</td>\n",
       "    </tr>\n",
       "    <tr>\n",
       "      <th>2021-12-27</th>\n",
       "      <td>50801.11</td>\n",
       "    </tr>\n",
       "    <tr>\n",
       "      <th>2021-12-28</th>\n",
       "      <td>50692.30</td>\n",
       "    </tr>\n",
       "  </tbody>\n",
       "</table>\n",
       "<p>4744 rows × 1 columns</p>\n",
       "</div>"
      ],
      "text/plain": [
       "               Value\n",
       "Date                \n",
       "2009-01-02      0.00\n",
       "2009-01-03      0.00\n",
       "2009-01-04      0.00\n",
       "2009-01-05      0.00\n",
       "2009-01-06      0.00\n",
       "...              ...\n",
       "2021-12-24  50785.69\n",
       "2021-12-25  50814.92\n",
       "2021-12-26  50470.89\n",
       "2021-12-27  50801.11\n",
       "2021-12-28  50692.30\n",
       "\n",
       "[4744 rows x 1 columns]"
      ]
     },
     "execution_count": 7,
     "metadata": {},
     "output_type": "execute_result"
    }
   ],
   "source": [
    "# Takes in the Nasdaq Data Link Code of the selection and api key\n",
    "data = q.get('BCHAIN/MKPRU', api_key = config['quandl']['api_key'])\n",
    "data"
   ]
  },
  {
   "cell_type": "code",
   "execution_count": 8,
   "id": "d7c31a28",
   "metadata": {},
   "outputs": [
    {
     "name": "stdout",
     "output_type": "stream",
     "text": [
      "<class 'pandas.core.frame.DataFrame'>\n",
      "DatetimeIndex: 4744 entries, 2009-01-02 to 2021-12-28\n",
      "Data columns (total 1 columns):\n",
      " #   Column  Non-Null Count  Dtype  \n",
      "---  ------  --------------  -----  \n",
      " 0   Value   4744 non-null   float64\n",
      "dtypes: float64(1)\n",
      "memory usage: 74.1 KB\n"
     ]
    }
   ],
   "source": [
    "data.info()"
   ]
  },
  {
   "cell_type": "code",
   "execution_count": 9,
   "id": "c209c5f7",
   "metadata": {},
   "outputs": [
    {
     "data": {
      "text/plain": [
       "Date\n",
       "2009-12-31        0.000000\n",
       "2010-12-31        0.299998\n",
       "2011-12-31        4.470000\n",
       "2012-12-31       13.570000\n",
       "2013-12-31      746.900000\n",
       "2014-12-31      315.700000\n",
       "2015-12-31      428.230000\n",
       "2016-12-31      958.120000\n",
       "2017-12-31    14165.575000\n",
       "2018-12-31     3791.545833\n",
       "2019-12-31     7219.600000\n",
       "2020-12-31    28856.590000\n",
       "2021-12-31    50692.300000\n",
       "Freq: A-DEC, Name: Value, dtype: float64"
      ]
     },
     "execution_count": 9,
     "metadata": {},
     "output_type": "execute_result"
    }
   ],
   "source": [
    "# Resamples data from daily values to yearly values\n",
    "data['Value'].resample('A').last()"
   ]
  },
  {
   "cell_type": "markdown",
   "id": "bc392746",
   "metadata": {},
   "source": [
    "### Another example of grabbing data from Nasdaq API"
   ]
  },
  {
   "cell_type": "code",
   "execution_count": 13,
   "id": "d7238985",
   "metadata": {},
   "outputs": [
    {
     "data": {
      "text/html": [
       "<div>\n",
       "<style scoped>\n",
       "    .dataframe tbody tr th:only-of-type {\n",
       "        vertical-align: middle;\n",
       "    }\n",
       "\n",
       "    .dataframe tbody tr th {\n",
       "        vertical-align: top;\n",
       "    }\n",
       "\n",
       "    .dataframe thead th {\n",
       "        text-align: right;\n",
       "    }\n",
       "</style>\n",
       "<table border=\"1\" class=\"dataframe\">\n",
       "  <thead>\n",
       "    <tr style=\"text-align: right;\">\n",
       "      <th></th>\n",
       "      <th>Open</th>\n",
       "      <th>High</th>\n",
       "      <th>Low</th>\n",
       "      <th>Close</th>\n",
       "      <th>Change</th>\n",
       "      <th>Traded Volume</th>\n",
       "      <th>Turnover</th>\n",
       "      <th>Last Price of the Day</th>\n",
       "      <th>Daily Traded Units</th>\n",
       "      <th>Daily Turnover</th>\n",
       "    </tr>\n",
       "    <tr>\n",
       "      <th>Date</th>\n",
       "      <th></th>\n",
       "      <th></th>\n",
       "      <th></th>\n",
       "      <th></th>\n",
       "      <th></th>\n",
       "      <th></th>\n",
       "      <th></th>\n",
       "      <th></th>\n",
       "      <th></th>\n",
       "      <th></th>\n",
       "    </tr>\n",
       "  </thead>\n",
       "  <tbody>\n",
       "    <tr>\n",
       "      <th>2018-01-02</th>\n",
       "      <td>93.35</td>\n",
       "      <td>93.95</td>\n",
       "      <td>92.12</td>\n",
       "      <td>92.80</td>\n",
       "      <td>None</td>\n",
       "      <td>2334984.0</td>\n",
       "      <td>2.165717e+08</td>\n",
       "      <td>None</td>\n",
       "      <td>None</td>\n",
       "      <td>None</td>\n",
       "    </tr>\n",
       "    <tr>\n",
       "      <th>2018-01-03</th>\n",
       "      <td>93.00</td>\n",
       "      <td>94.65</td>\n",
       "      <td>92.63</td>\n",
       "      <td>94.07</td>\n",
       "      <td>None</td>\n",
       "      <td>2346852.0</td>\n",
       "      <td>2.198772e+08</td>\n",
       "      <td>None</td>\n",
       "      <td>None</td>\n",
       "      <td>None</td>\n",
       "    </tr>\n",
       "    <tr>\n",
       "      <th>2018-01-11</th>\n",
       "      <td>NaN</td>\n",
       "      <td>93.74</td>\n",
       "      <td>91.04</td>\n",
       "      <td>91.43</td>\n",
       "      <td>None</td>\n",
       "      <td>4274991.0</td>\n",
       "      <td>3.934989e+08</td>\n",
       "      <td>None</td>\n",
       "      <td>None</td>\n",
       "      <td>None</td>\n",
       "    </tr>\n",
       "    <tr>\n",
       "      <th>2018-01-12</th>\n",
       "      <td>NaN</td>\n",
       "      <td>91.47</td>\n",
       "      <td>90.27</td>\n",
       "      <td>90.73</td>\n",
       "      <td>None</td>\n",
       "      <td>3437210.0</td>\n",
       "      <td>3.120135e+08</td>\n",
       "      <td>None</td>\n",
       "      <td>None</td>\n",
       "      <td>None</td>\n",
       "    </tr>\n",
       "    <tr>\n",
       "      <th>2018-01-15</th>\n",
       "      <td>NaN</td>\n",
       "      <td>90.61</td>\n",
       "      <td>89.71</td>\n",
       "      <td>90.06</td>\n",
       "      <td>None</td>\n",
       "      <td>2053812.0</td>\n",
       "      <td>1.851768e+08</td>\n",
       "      <td>None</td>\n",
       "      <td>None</td>\n",
       "      <td>None</td>\n",
       "    </tr>\n",
       "    <tr>\n",
       "      <th>...</th>\n",
       "      <td>...</td>\n",
       "      <td>...</td>\n",
       "      <td>...</td>\n",
       "      <td>...</td>\n",
       "      <td>...</td>\n",
       "      <td>...</td>\n",
       "      <td>...</td>\n",
       "      <td>...</td>\n",
       "      <td>...</td>\n",
       "      <td>...</td>\n",
       "    </tr>\n",
       "    <tr>\n",
       "      <th>2020-04-24</th>\n",
       "      <td>106.22</td>\n",
       "      <td>108.06</td>\n",
       "      <td>105.14</td>\n",
       "      <td>106.68</td>\n",
       "      <td>None</td>\n",
       "      <td>2890515.0</td>\n",
       "      <td>3.091875e+08</td>\n",
       "      <td>None</td>\n",
       "      <td>None</td>\n",
       "      <td>None</td>\n",
       "    </tr>\n",
       "    <tr>\n",
       "      <th>2020-04-27</th>\n",
       "      <td>109.00</td>\n",
       "      <td>109.50</td>\n",
       "      <td>107.16</td>\n",
       "      <td>107.80</td>\n",
       "      <td>None</td>\n",
       "      <td>2106179.0</td>\n",
       "      <td>2.272643e+08</td>\n",
       "      <td>None</td>\n",
       "      <td>None</td>\n",
       "      <td>None</td>\n",
       "    </tr>\n",
       "    <tr>\n",
       "      <th>2020-04-28</th>\n",
       "      <td>107.66</td>\n",
       "      <td>110.12</td>\n",
       "      <td>107.60</td>\n",
       "      <td>108.84</td>\n",
       "      <td>None</td>\n",
       "      <td>3037613.0</td>\n",
       "      <td>3.307189e+08</td>\n",
       "      <td>None</td>\n",
       "      <td>None</td>\n",
       "      <td>None</td>\n",
       "    </tr>\n",
       "    <tr>\n",
       "      <th>2020-04-29</th>\n",
       "      <td>109.00</td>\n",
       "      <td>109.90</td>\n",
       "      <td>107.18</td>\n",
       "      <td>109.80</td>\n",
       "      <td>None</td>\n",
       "      <td>2539753.0</td>\n",
       "      <td>2.761407e+08</td>\n",
       "      <td>None</td>\n",
       "      <td>None</td>\n",
       "      <td>None</td>\n",
       "    </tr>\n",
       "    <tr>\n",
       "      <th>2020-04-30</th>\n",
       "      <td>110.84</td>\n",
       "      <td>111.80</td>\n",
       "      <td>108.08</td>\n",
       "      <td>108.94</td>\n",
       "      <td>None</td>\n",
       "      <td>4692164.0</td>\n",
       "      <td>5.159082e+08</td>\n",
       "      <td>None</td>\n",
       "      <td>None</td>\n",
       "      <td>None</td>\n",
       "    </tr>\n",
       "  </tbody>\n",
       "</table>\n",
       "<p>579 rows × 10 columns</p>\n",
       "</div>"
      ],
      "text/plain": [
       "              Open    High     Low   Close Change  Traded Volume  \\\n",
       "Date                                                               \n",
       "2018-01-02   93.35   93.95   92.12   92.80   None      2334984.0   \n",
       "2018-01-03   93.00   94.65   92.63   94.07   None      2346852.0   \n",
       "2018-01-11     NaN   93.74   91.04   91.43   None      4274991.0   \n",
       "2018-01-12     NaN   91.47   90.27   90.73   None      3437210.0   \n",
       "2018-01-15     NaN   90.61   89.71   90.06   None      2053812.0   \n",
       "...            ...     ...     ...     ...    ...            ...   \n",
       "2020-04-24  106.22  108.06  105.14  106.68   None      2890515.0   \n",
       "2020-04-27  109.00  109.50  107.16  107.80   None      2106179.0   \n",
       "2020-04-28  107.66  110.12  107.60  108.84   None      3037613.0   \n",
       "2020-04-29  109.00  109.90  107.18  109.80   None      2539753.0   \n",
       "2020-04-30  110.84  111.80  108.08  108.94   None      4692164.0   \n",
       "\n",
       "                Turnover Last Price of the Day Daily Traded Units  \\\n",
       "Date                                                                \n",
       "2018-01-02  2.165717e+08                  None               None   \n",
       "2018-01-03  2.198772e+08                  None               None   \n",
       "2018-01-11  3.934989e+08                  None               None   \n",
       "2018-01-12  3.120135e+08                  None               None   \n",
       "2018-01-15  1.851768e+08                  None               None   \n",
       "...                  ...                   ...                ...   \n",
       "2020-04-24  3.091875e+08                  None               None   \n",
       "2020-04-27  2.272643e+08                  None               None   \n",
       "2020-04-28  3.307189e+08                  None               None   \n",
       "2020-04-29  2.761407e+08                  None               None   \n",
       "2020-04-30  5.159082e+08                  None               None   \n",
       "\n",
       "           Daily Turnover  \n",
       "Date                       \n",
       "2018-01-02           None  \n",
       "2018-01-03           None  \n",
       "2018-01-11           None  \n",
       "2018-01-12           None  \n",
       "2018-01-15           None  \n",
       "...                   ...  \n",
       "2020-04-24           None  \n",
       "2020-04-27           None  \n",
       "2020-04-28           None  \n",
       "2020-04-29           None  \n",
       "2020-04-30           None  \n",
       "\n",
       "[579 rows x 10 columns]"
      ]
     },
     "execution_count": 13,
     "metadata": {},
     "output_type": "execute_result"
    }
   ],
   "source": [
    "data = q.get('FSE/SAP_X', start_date='2018-1-1', end_date='2020-05-01', api_key=config['quandl']['api_key'])\n",
    "data"
   ]
  },
  {
   "cell_type": "code",
   "execution_count": 14,
   "id": "19d2e675",
   "metadata": {},
   "outputs": [
    {
     "name": "stdout",
     "output_type": "stream",
     "text": [
      "<class 'pandas.core.frame.DataFrame'>\n",
      "DatetimeIndex: 579 entries, 2018-01-02 to 2020-04-30\n",
      "Data columns (total 10 columns):\n",
      " #   Column                 Non-Null Count  Dtype  \n",
      "---  ------                 --------------  -----  \n",
      " 0   Open                   257 non-null    float64\n",
      " 1   High                   579 non-null    float64\n",
      " 2   Low                    579 non-null    float64\n",
      " 3   Close                  579 non-null    float64\n",
      " 4   Change                 0 non-null      object \n",
      " 5   Traded Volume          533 non-null    float64\n",
      " 6   Turnover               533 non-null    float64\n",
      " 7   Last Price of the Day  0 non-null      object \n",
      " 8   Daily Traded Units     0 non-null      object \n",
      " 9   Daily Turnover         0 non-null      object \n",
      "dtypes: float64(6), object(4)\n",
      "memory usage: 49.8+ KB\n"
     ]
    }
   ],
   "source": [
    "data.info()"
   ]
  },
  {
   "cell_type": "code",
   "execution_count": 18,
   "id": "7f4656fb",
   "metadata": {},
   "outputs": [
    {
     "data": {
      "text/html": [
       "<div>\n",
       "<style scoped>\n",
       "    .dataframe tbody tr th:only-of-type {\n",
       "        vertical-align: middle;\n",
       "    }\n",
       "\n",
       "    .dataframe tbody tr th {\n",
       "        vertical-align: top;\n",
       "    }\n",
       "\n",
       "    .dataframe thead th {\n",
       "        text-align: right;\n",
       "    }\n",
       "</style>\n",
       "<table border=\"1\" class=\"dataframe\">\n",
       "  <thead>\n",
       "    <tr style=\"text-align: right;\">\n",
       "      <th></th>\n",
       "      <th>Hv10</th>\n",
       "      <th>Hv20</th>\n",
       "      <th>Hv30</th>\n",
       "      <th>Hv60</th>\n",
       "      <th>Hv90</th>\n",
       "      <th>Hv120</th>\n",
       "      <th>Hv150</th>\n",
       "      <th>Hv180</th>\n",
       "      <th>Phv10</th>\n",
       "      <th>Phv20</th>\n",
       "      <th>...</th>\n",
       "      <th>IvMean360</th>\n",
       "      <th>IvMeanSkew360</th>\n",
       "      <th>IvCall720</th>\n",
       "      <th>IvPut720</th>\n",
       "      <th>IvMean720</th>\n",
       "      <th>IvMeanSkew720</th>\n",
       "      <th>IvCall1080</th>\n",
       "      <th>IvPut1080</th>\n",
       "      <th>IvMean1080</th>\n",
       "      <th>IvMeanSkew1080</th>\n",
       "    </tr>\n",
       "    <tr>\n",
       "      <th>Date</th>\n",
       "      <th></th>\n",
       "      <th></th>\n",
       "      <th></th>\n",
       "      <th></th>\n",
       "      <th></th>\n",
       "      <th></th>\n",
       "      <th></th>\n",
       "      <th></th>\n",
       "      <th></th>\n",
       "      <th></th>\n",
       "      <th></th>\n",
       "      <th></th>\n",
       "      <th></th>\n",
       "      <th></th>\n",
       "      <th></th>\n",
       "      <th></th>\n",
       "      <th></th>\n",
       "      <th></th>\n",
       "      <th></th>\n",
       "      <th></th>\n",
       "      <th></th>\n",
       "    </tr>\n",
       "  </thead>\n",
       "  <tbody>\n",
       "    <tr>\n",
       "      <th>2015-01-02</th>\n",
       "      <td>0.1341</td>\n",
       "      <td>0.2541</td>\n",
       "      <td>0.2283</td>\n",
       "      <td>0.1905</td>\n",
       "      <td>0.2191</td>\n",
       "      <td>0.2052</td>\n",
       "      <td>0.1900</td>\n",
       "      <td>0.1869</td>\n",
       "      <td>0.1470</td>\n",
       "      <td>0.1811</td>\n",
       "      <td>...</td>\n",
       "      <td>0.2158</td>\n",
       "      <td>0.0201</td>\n",
       "      <td>0.2339</td>\n",
       "      <td>0.2215</td>\n",
       "      <td>0.2277</td>\n",
       "      <td>0.0159</td>\n",
       "      <td>0.2353</td>\n",
       "      <td>0.2220</td>\n",
       "      <td>0.2287</td>\n",
       "      <td>0.0157</td>\n",
       "    </tr>\n",
       "    <tr>\n",
       "      <th>2015-01-05</th>\n",
       "      <td>0.0978</td>\n",
       "      <td>0.2563</td>\n",
       "      <td>0.2289</td>\n",
       "      <td>0.1917</td>\n",
       "      <td>0.2200</td>\n",
       "      <td>0.2044</td>\n",
       "      <td>0.1902</td>\n",
       "      <td>0.1874</td>\n",
       "      <td>0.1432</td>\n",
       "      <td>0.1738</td>\n",
       "      <td>...</td>\n",
       "      <td>0.2224</td>\n",
       "      <td>0.0248</td>\n",
       "      <td>0.2398</td>\n",
       "      <td>0.2222</td>\n",
       "      <td>0.2310</td>\n",
       "      <td>0.0175</td>\n",
       "      <td>0.2410</td>\n",
       "      <td>0.2224</td>\n",
       "      <td>0.2317</td>\n",
       "      <td>0.0170</td>\n",
       "    </tr>\n",
       "    <tr>\n",
       "      <th>2015-01-06</th>\n",
       "      <td>0.1097</td>\n",
       "      <td>0.2622</td>\n",
       "      <td>0.2238</td>\n",
       "      <td>0.1941</td>\n",
       "      <td>0.2206</td>\n",
       "      <td>0.2049</td>\n",
       "      <td>0.1910</td>\n",
       "      <td>0.1888</td>\n",
       "      <td>0.1664</td>\n",
       "      <td>0.1761</td>\n",
       "      <td>...</td>\n",
       "      <td>0.2256</td>\n",
       "      <td>0.0239</td>\n",
       "      <td>0.2412</td>\n",
       "      <td>0.2259</td>\n",
       "      <td>0.2336</td>\n",
       "      <td>0.0176</td>\n",
       "      <td>0.2419</td>\n",
       "      <td>0.2264</td>\n",
       "      <td>0.2341</td>\n",
       "      <td>0.0171</td>\n",
       "    </tr>\n",
       "    <tr>\n",
       "      <th>2015-01-07</th>\n",
       "      <td>0.1644</td>\n",
       "      <td>0.2253</td>\n",
       "      <td>0.2294</td>\n",
       "      <td>0.1916</td>\n",
       "      <td>0.2152</td>\n",
       "      <td>0.2058</td>\n",
       "      <td>0.1919</td>\n",
       "      <td>0.1891</td>\n",
       "      <td>0.1775</td>\n",
       "      <td>0.1713</td>\n",
       "      <td>...</td>\n",
       "      <td>0.2244</td>\n",
       "      <td>0.0214</td>\n",
       "      <td>0.2402</td>\n",
       "      <td>0.2282</td>\n",
       "      <td>0.2342</td>\n",
       "      <td>0.0173</td>\n",
       "      <td>0.2413</td>\n",
       "      <td>0.2284</td>\n",
       "      <td>0.2348</td>\n",
       "      <td>0.0171</td>\n",
       "    </tr>\n",
       "    <tr>\n",
       "      <th>2015-01-08</th>\n",
       "      <td>0.2574</td>\n",
       "      <td>0.2500</td>\n",
       "      <td>0.2482</td>\n",
       "      <td>0.2057</td>\n",
       "      <td>0.2191</td>\n",
       "      <td>0.2120</td>\n",
       "      <td>0.1968</td>\n",
       "      <td>0.1933</td>\n",
       "      <td>0.1901</td>\n",
       "      <td>0.1703</td>\n",
       "      <td>...</td>\n",
       "      <td>0.2175</td>\n",
       "      <td>0.0189</td>\n",
       "      <td>0.2357</td>\n",
       "      <td>0.2234</td>\n",
       "      <td>0.2295</td>\n",
       "      <td>0.0199</td>\n",
       "      <td>0.2369</td>\n",
       "      <td>0.2237</td>\n",
       "      <td>0.2303</td>\n",
       "      <td>0.0200</td>\n",
       "    </tr>\n",
       "    <tr>\n",
       "      <th>...</th>\n",
       "      <td>...</td>\n",
       "      <td>...</td>\n",
       "      <td>...</td>\n",
       "      <td>...</td>\n",
       "      <td>...</td>\n",
       "      <td>...</td>\n",
       "      <td>...</td>\n",
       "      <td>...</td>\n",
       "      <td>...</td>\n",
       "      <td>...</td>\n",
       "      <td>...</td>\n",
       "      <td>...</td>\n",
       "      <td>...</td>\n",
       "      <td>...</td>\n",
       "      <td>...</td>\n",
       "      <td>...</td>\n",
       "      <td>...</td>\n",
       "      <td>...</td>\n",
       "      <td>...</td>\n",
       "      <td>...</td>\n",
       "      <td>...</td>\n",
       "    </tr>\n",
       "    <tr>\n",
       "      <th>2018-12-24</th>\n",
       "      <td>0.2989</td>\n",
       "      <td>0.3617</td>\n",
       "      <td>0.3754</td>\n",
       "      <td>0.3741</td>\n",
       "      <td>0.3634</td>\n",
       "      <td>0.3276</td>\n",
       "      <td>0.2999</td>\n",
       "      <td>0.2864</td>\n",
       "      <td>0.4222</td>\n",
       "      <td>0.3828</td>\n",
       "      <td>...</td>\n",
       "      <td>0.3194</td>\n",
       "      <td>0.0235</td>\n",
       "      <td>0.2661</td>\n",
       "      <td>0.3282</td>\n",
       "      <td>0.2972</td>\n",
       "      <td>0.0143</td>\n",
       "      <td>0.2649</td>\n",
       "      <td>0.3287</td>\n",
       "      <td>0.2968</td>\n",
       "      <td>0.0150</td>\n",
       "    </tr>\n",
       "    <tr>\n",
       "      <th>2018-12-26</th>\n",
       "      <td>0.5916</td>\n",
       "      <td>0.4789</td>\n",
       "      <td>0.4478</td>\n",
       "      <td>0.3838</td>\n",
       "      <td>0.3892</td>\n",
       "      <td>0.3476</td>\n",
       "      <td>0.3166</td>\n",
       "      <td>0.3012</td>\n",
       "      <td>0.4737</td>\n",
       "      <td>0.4089</td>\n",
       "      <td>...</td>\n",
       "      <td>0.3053</td>\n",
       "      <td>0.0303</td>\n",
       "      <td>0.2618</td>\n",
       "      <td>0.3083</td>\n",
       "      <td>0.2851</td>\n",
       "      <td>0.0045</td>\n",
       "      <td>0.2619</td>\n",
       "      <td>0.3048</td>\n",
       "      <td>0.2834</td>\n",
       "      <td>0.0035</td>\n",
       "    </tr>\n",
       "    <tr>\n",
       "      <th>2018-12-27</th>\n",
       "      <td>0.5734</td>\n",
       "      <td>0.4789</td>\n",
       "      <td>0.4319</td>\n",
       "      <td>0.3833</td>\n",
       "      <td>0.3894</td>\n",
       "      <td>0.3476</td>\n",
       "      <td>0.3151</td>\n",
       "      <td>0.3013</td>\n",
       "      <td>0.4845</td>\n",
       "      <td>0.4151</td>\n",
       "      <td>...</td>\n",
       "      <td>0.3060</td>\n",
       "      <td>0.0218</td>\n",
       "      <td>0.2538</td>\n",
       "      <td>0.3322</td>\n",
       "      <td>0.2930</td>\n",
       "      <td>0.0062</td>\n",
       "      <td>0.2517</td>\n",
       "      <td>0.3325</td>\n",
       "      <td>0.2921</td>\n",
       "      <td>0.0048</td>\n",
       "    </tr>\n",
       "    <tr>\n",
       "      <th>2018-12-28</th>\n",
       "      <td>0.5667</td>\n",
       "      <td>0.4513</td>\n",
       "      <td>0.4311</td>\n",
       "      <td>0.3770</td>\n",
       "      <td>0.3895</td>\n",
       "      <td>0.3466</td>\n",
       "      <td>0.3151</td>\n",
       "      <td>0.3009</td>\n",
       "      <td>0.4905</td>\n",
       "      <td>0.4031</td>\n",
       "      <td>...</td>\n",
       "      <td>0.2972</td>\n",
       "      <td>0.0222</td>\n",
       "      <td>0.2637</td>\n",
       "      <td>0.3227</td>\n",
       "      <td>0.2932</td>\n",
       "      <td>0.0131</td>\n",
       "      <td>0.2636</td>\n",
       "      <td>0.3233</td>\n",
       "      <td>0.2934</td>\n",
       "      <td>0.0136</td>\n",
       "    </tr>\n",
       "    <tr>\n",
       "      <th>2018-12-31</th>\n",
       "      <td>0.5756</td>\n",
       "      <td>0.4372</td>\n",
       "      <td>0.4105</td>\n",
       "      <td>0.3782</td>\n",
       "      <td>0.3897</td>\n",
       "      <td>0.3473</td>\n",
       "      <td>0.3156</td>\n",
       "      <td>0.3010</td>\n",
       "      <td>0.4570</td>\n",
       "      <td>0.3940</td>\n",
       "      <td>...</td>\n",
       "      <td>0.2871</td>\n",
       "      <td>0.0225</td>\n",
       "      <td>0.2465</td>\n",
       "      <td>0.3187</td>\n",
       "      <td>0.2826</td>\n",
       "      <td>0.0040</td>\n",
       "      <td>0.2458</td>\n",
       "      <td>0.3195</td>\n",
       "      <td>0.2826</td>\n",
       "      <td>0.0034</td>\n",
       "    </tr>\n",
       "  </tbody>\n",
       "</table>\n",
       "<p>1006 rows × 64 columns</p>\n",
       "</div>"
      ],
      "text/plain": [
       "              Hv10    Hv20    Hv30    Hv60    Hv90   Hv120   Hv150   Hv180  \\\n",
       "Date                                                                         \n",
       "2015-01-02  0.1341  0.2541  0.2283  0.1905  0.2191  0.2052  0.1900  0.1869   \n",
       "2015-01-05  0.0978  0.2563  0.2289  0.1917  0.2200  0.2044  0.1902  0.1874   \n",
       "2015-01-06  0.1097  0.2622  0.2238  0.1941  0.2206  0.2049  0.1910  0.1888   \n",
       "2015-01-07  0.1644  0.2253  0.2294  0.1916  0.2152  0.2058  0.1919  0.1891   \n",
       "2015-01-08  0.2574  0.2500  0.2482  0.2057  0.2191  0.2120  0.1968  0.1933   \n",
       "...            ...     ...     ...     ...     ...     ...     ...     ...   \n",
       "2018-12-24  0.2989  0.3617  0.3754  0.3741  0.3634  0.3276  0.2999  0.2864   \n",
       "2018-12-26  0.5916  0.4789  0.4478  0.3838  0.3892  0.3476  0.3166  0.3012   \n",
       "2018-12-27  0.5734  0.4789  0.4319  0.3833  0.3894  0.3476  0.3151  0.3013   \n",
       "2018-12-28  0.5667  0.4513  0.4311  0.3770  0.3895  0.3466  0.3151  0.3009   \n",
       "2018-12-31  0.5756  0.4372  0.4105  0.3782  0.3897  0.3473  0.3156  0.3010   \n",
       "\n",
       "             Phv10   Phv20  ...  IvMean360  IvMeanSkew360  IvCall720  \\\n",
       "Date                        ...                                        \n",
       "2015-01-02  0.1470  0.1811  ...     0.2158         0.0201     0.2339   \n",
       "2015-01-05  0.1432  0.1738  ...     0.2224         0.0248     0.2398   \n",
       "2015-01-06  0.1664  0.1761  ...     0.2256         0.0239     0.2412   \n",
       "2015-01-07  0.1775  0.1713  ...     0.2244         0.0214     0.2402   \n",
       "2015-01-08  0.1901  0.1703  ...     0.2175         0.0189     0.2357   \n",
       "...            ...     ...  ...        ...            ...        ...   \n",
       "2018-12-24  0.4222  0.3828  ...     0.3194         0.0235     0.2661   \n",
       "2018-12-26  0.4737  0.4089  ...     0.3053         0.0303     0.2618   \n",
       "2018-12-27  0.4845  0.4151  ...     0.3060         0.0218     0.2538   \n",
       "2018-12-28  0.4905  0.4031  ...     0.2972         0.0222     0.2637   \n",
       "2018-12-31  0.4570  0.3940  ...     0.2871         0.0225     0.2465   \n",
       "\n",
       "            IvPut720  IvMean720  IvMeanSkew720  IvCall1080  IvPut1080  \\\n",
       "Date                                                                    \n",
       "2015-01-02    0.2215     0.2277         0.0159      0.2353     0.2220   \n",
       "2015-01-05    0.2222     0.2310         0.0175      0.2410     0.2224   \n",
       "2015-01-06    0.2259     0.2336         0.0176      0.2419     0.2264   \n",
       "2015-01-07    0.2282     0.2342         0.0173      0.2413     0.2284   \n",
       "2015-01-08    0.2234     0.2295         0.0199      0.2369     0.2237   \n",
       "...              ...        ...            ...         ...        ...   \n",
       "2018-12-24    0.3282     0.2972         0.0143      0.2649     0.3287   \n",
       "2018-12-26    0.3083     0.2851         0.0045      0.2619     0.3048   \n",
       "2018-12-27    0.3322     0.2930         0.0062      0.2517     0.3325   \n",
       "2018-12-28    0.3227     0.2932         0.0131      0.2636     0.3233   \n",
       "2018-12-31    0.3187     0.2826         0.0040      0.2458     0.3195   \n",
       "\n",
       "            IvMean1080  IvMeanSkew1080  \n",
       "Date                                    \n",
       "2015-01-02      0.2287          0.0157  \n",
       "2015-01-05      0.2317          0.0170  \n",
       "2015-01-06      0.2341          0.0171  \n",
       "2015-01-07      0.2348          0.0171  \n",
       "2015-01-08      0.2303          0.0200  \n",
       "...                ...             ...  \n",
       "2018-12-24      0.2968          0.0150  \n",
       "2018-12-26      0.2834          0.0035  \n",
       "2018-12-27      0.2921          0.0048  \n",
       "2018-12-28      0.2934          0.0136  \n",
       "2018-12-31      0.2826          0.0034  \n",
       "\n",
       "[1006 rows x 64 columns]"
      ]
     },
     "execution_count": 18,
     "metadata": {},
     "output_type": "execute_result"
    }
   ],
   "source": [
    "vol = q.get('VOL/MSFT')\n",
    "vol"
   ]
  },
  {
   "cell_type": "code",
   "execution_count": 19,
   "id": "0eb53260",
   "metadata": {},
   "outputs": [
    {
     "name": "stdout",
     "output_type": "stream",
     "text": [
      "<class 'pandas.core.frame.DataFrame'>\n",
      "DatetimeIndex: 1006 entries, 2015-01-02 to 2018-12-31\n",
      "Data columns (total 10 columns):\n",
      " #   Column  Non-Null Count  Dtype  \n",
      "---  ------  --------------  -----  \n",
      " 0   Hv10    1006 non-null   float64\n",
      " 1   Hv20    1006 non-null   float64\n",
      " 2   Hv30    1006 non-null   float64\n",
      " 3   Hv60    1006 non-null   float64\n",
      " 4   Hv90    1006 non-null   float64\n",
      " 5   Hv120   1006 non-null   float64\n",
      " 6   Hv150   1006 non-null   float64\n",
      " 7   Hv180   1006 non-null   float64\n",
      " 8   Phv10   1006 non-null   float64\n",
      " 9   Phv20   1006 non-null   float64\n",
      "dtypes: float64(10)\n",
      "memory usage: 86.5 KB\n"
     ]
    }
   ],
   "source": [
    "vol.iloc[:,:10].info()"
   ]
  },
  {
   "cell_type": "code",
   "execution_count": 20,
   "id": "018fcf59",
   "metadata": {},
   "outputs": [
    {
     "data": {
      "text/html": [
       "<div>\n",
       "<style scoped>\n",
       "    .dataframe tbody tr th:only-of-type {\n",
       "        vertical-align: middle;\n",
       "    }\n",
       "\n",
       "    .dataframe tbody tr th {\n",
       "        vertical-align: top;\n",
       "    }\n",
       "\n",
       "    .dataframe thead th {\n",
       "        text-align: right;\n",
       "    }\n",
       "</style>\n",
       "<table border=\"1\" class=\"dataframe\">\n",
       "  <thead>\n",
       "    <tr style=\"text-align: right;\">\n",
       "      <th></th>\n",
       "      <th>IvMean30</th>\n",
       "      <th>IvMean60</th>\n",
       "      <th>IvMean90</th>\n",
       "    </tr>\n",
       "    <tr>\n",
       "      <th>Date</th>\n",
       "      <th></th>\n",
       "      <th></th>\n",
       "      <th></th>\n",
       "    </tr>\n",
       "  </thead>\n",
       "  <tbody>\n",
       "    <tr>\n",
       "      <th>2018-12-24</th>\n",
       "      <td>0.4310</td>\n",
       "      <td>0.4112</td>\n",
       "      <td>0.3829</td>\n",
       "    </tr>\n",
       "    <tr>\n",
       "      <th>2018-12-26</th>\n",
       "      <td>0.4059</td>\n",
       "      <td>0.3844</td>\n",
       "      <td>0.3587</td>\n",
       "    </tr>\n",
       "    <tr>\n",
       "      <th>2018-12-27</th>\n",
       "      <td>0.3918</td>\n",
       "      <td>0.3879</td>\n",
       "      <td>0.3618</td>\n",
       "    </tr>\n",
       "    <tr>\n",
       "      <th>2018-12-28</th>\n",
       "      <td>0.3940</td>\n",
       "      <td>0.3736</td>\n",
       "      <td>0.3482</td>\n",
       "    </tr>\n",
       "    <tr>\n",
       "      <th>2018-12-31</th>\n",
       "      <td>0.3760</td>\n",
       "      <td>0.3519</td>\n",
       "      <td>0.3310</td>\n",
       "    </tr>\n",
       "  </tbody>\n",
       "</table>\n",
       "</div>"
      ],
      "text/plain": [
       "            IvMean30  IvMean60  IvMean90\n",
       "Date                                    \n",
       "2018-12-24    0.4310    0.4112    0.3829\n",
       "2018-12-26    0.4059    0.3844    0.3587\n",
       "2018-12-27    0.3918    0.3879    0.3618\n",
       "2018-12-28    0.3940    0.3736    0.3482\n",
       "2018-12-31    0.3760    0.3519    0.3310"
      ]
     },
     "execution_count": 20,
     "metadata": {},
     "output_type": "execute_result"
    }
   ],
   "source": [
    "# Get the last 5 elements for IvMean columns\n",
    "vol[['IvMean30', 'IvMean60', 'IvMean90']].tail()"
   ]
  },
  {
   "cell_type": "markdown",
   "id": "022cc0e1",
   "metadata": {},
   "source": [
    "### Another choice for data is Eikon Data API from refinitiv"
   ]
  },
  {
   "cell_type": "markdown",
   "id": "c44e21be",
   "metadata": {},
   "source": [
    "### Generating and storing data efficientely"
   ]
  },
  {
   "cell_type": "code",
   "execution_count": 26,
   "id": "d7bfae96",
   "metadata": {},
   "outputs": [],
   "source": [
    "# A script that was provided that generates random time series data\n",
    "from genscript import generate_sample_data"
   ]
  },
  {
   "cell_type": "code",
   "execution_count": 32,
   "id": "044e9d90",
   "metadata": {},
   "outputs": [
    {
     "name": "stdout",
     "output_type": "stream",
     "text": [
      "                            No0         No1         No2         No3\n",
      "2021-01-01 00:00:00  100.000000  100.000000  100.000000  100.000000\n",
      "2021-01-01 00:01:00  100.070406   99.885853  100.053022   99.902947\n",
      "2021-01-01 00:02:00  100.021578   99.848014  100.021760   99.901037\n",
      "2021-01-01 00:03:00  100.090532   99.794614   99.931726   99.939186\n",
      "2021-01-01 00:04:00  100.110057   99.891315   99.955643  100.064538\n"
     ]
    }
   ],
   "source": [
    "print(generate_sample_data(rows=5, cols=4))"
   ]
  },
  {
   "cell_type": "code",
   "execution_count": 34,
   "id": "59cb425d",
   "metadata": {},
   "outputs": [
    {
     "name": "stdout",
     "output_type": "stream",
     "text": [
      "Wall time: 5.45 s\n"
     ]
    }
   ],
   "source": [
    "# Only takes 5 seconds to generate 5,000,000 rows\n",
    "%time data = generate_sample_data(rows=5e6, cols=10).round(4)"
   ]
  },
  {
   "cell_type": "code",
   "execution_count": 74,
   "id": "2ac2677b",
   "metadata": {},
   "outputs": [],
   "source": [
    "# Open an HDFStore (An HDF5 database file)\n",
    "# HDF5 is usually used for maximum efficiency for writing\n",
    "h5 = pd.HDFStore('data/data.h5','w')"
   ]
  },
  {
   "cell_type": "code",
   "execution_count": 75,
   "id": "3c407ce8",
   "metadata": {},
   "outputs": [
    {
     "name": "stdout",
     "output_type": "stream",
     "text": [
      "Wall time: 66.6 ms\n"
     ]
    }
   ],
   "source": [
    "%time h5['data'] = data"
   ]
  },
  {
   "cell_type": "code",
   "execution_count": 76,
   "id": "51db718a",
   "metadata": {},
   "outputs": [
    {
     "data": {
      "text/plain": [
       "<class 'pandas.io.pytables.HDFStore'>\n",
       "File path: data/data.h5"
      ]
     },
     "execution_count": 76,
     "metadata": {},
     "output_type": "execute_result"
    }
   ],
   "source": [
    "h5"
   ]
  },
  {
   "cell_type": "code",
   "execution_count": 77,
   "id": "11cec7f2",
   "metadata": {},
   "outputs": [],
   "source": [
    "h5.close()"
   ]
  },
  {
   "cell_type": "code",
   "execution_count": 52,
   "id": "93c29f67",
   "metadata": {},
   "outputs": [],
   "source": [
    "# Read data from the data store\n",
    "# HDF5 read operations are very efficienct \"taking place close to the theorietical maximum speed\"\n",
    "\n",
    "h5 = pd.HDFStore('data/data.h5', 'r')"
   ]
  },
  {
   "cell_type": "code",
   "execution_count": 53,
   "id": "ef341c44",
   "metadata": {},
   "outputs": [
    {
     "data": {
      "text/plain": [
       "<class 'pandas.io.pytables.HDFStore'>\n",
       "File path: data/data.h5"
      ]
     },
     "execution_count": 53,
     "metadata": {},
     "output_type": "execute_result"
    }
   ],
   "source": [
    "h5"
   ]
  },
  {
   "cell_type": "code",
   "execution_count": 54,
   "id": "ec612e59",
   "metadata": {},
   "outputs": [],
   "source": [
    "h5.close()"
   ]
  },
  {
   "cell_type": "markdown",
   "id": "50d3b64e",
   "metadata": {},
   "source": [
    "### Store data using SQLite"
   ]
  },
  {
   "cell_type": "code",
   "execution_count": 65,
   "id": "e3ea1e0a",
   "metadata": {},
   "outputs": [],
   "source": [
    "import sqlite3 as sq3"
   ]
  },
  {
   "cell_type": "code",
   "execution_count": 63,
   "id": "468c2aa1",
   "metadata": {},
   "outputs": [],
   "source": [
    "data = generate_sample_data(1e6, 5, '1min').round(4)"
   ]
  },
  {
   "cell_type": "code",
   "execution_count": 64,
   "id": "2e067630",
   "metadata": {},
   "outputs": [
    {
     "name": "stdout",
     "output_type": "stream",
     "text": [
      "<class 'pandas.core.frame.DataFrame'>\n",
      "DatetimeIndex: 1000000 entries, 2021-01-01 00:00:00 to 2022-11-26 10:39:00\n",
      "Freq: T\n",
      "Data columns (total 5 columns):\n",
      " #   Column  Non-Null Count    Dtype  \n",
      "---  ------  --------------    -----  \n",
      " 0   No0     1000000 non-null  float64\n",
      " 1   No1     1000000 non-null  float64\n",
      " 2   No2     1000000 non-null  float64\n",
      " 3   No3     1000000 non-null  float64\n",
      " 4   No4     1000000 non-null  float64\n",
      "dtypes: float64(5)\n",
      "memory usage: 45.8 MB\n"
     ]
    }
   ],
   "source": [
    "data.info()"
   ]
  },
  {
   "cell_type": "code",
   "execution_count": 66,
   "id": "cf572a7e",
   "metadata": {},
   "outputs": [],
   "source": [
    "# Establish a connection with the created sqlite db\n",
    "con = sq3.connect('data/data.sql')"
   ]
  },
  {
   "cell_type": "code",
   "execution_count": 67,
   "id": "97b502c1",
   "metadata": {},
   "outputs": [
    {
     "name": "stdout",
     "output_type": "stream",
     "text": [
      "Wall time: 5.48 s\n"
     ]
    }
   ],
   "source": [
    "# It takes around 5 seconds to write 1,000,000 entries to sqlite\n",
    "%time data.to_sql('data', con)"
   ]
  },
  {
   "cell_type": "markdown",
   "id": "e03a3dc0",
   "metadata": {},
   "source": [
    "### Write a query to grab data"
   ]
  },
  {
   "cell_type": "code",
   "execution_count": 68,
   "id": "690dd338",
   "metadata": {},
   "outputs": [
    {
     "name": "stdout",
     "output_type": "stream",
     "text": [
      "Wall time: 311 ms\n"
     ]
    }
   ],
   "source": [
    "query = 'SELECT * FROM data WHERE No1 > 105 and No2 < 108'\n",
    "%time res = con.execute(query).fetchall()"
   ]
  },
  {
   "cell_type": "code",
   "execution_count": 70,
   "id": "8e01f0f7",
   "metadata": {},
   "outputs": [
    {
     "data": {
      "text/plain": [
       "[('2021-01-05 18:25:00', 98.1605, 105.1434, 107.1763, 102.209, 85.7117),\n",
       " ('2021-01-05 18:26:00', 98.1973, 105.0858, 107.2403, 102.2178, 85.6741),\n",
       " ('2021-01-05 18:27:00', 98.2176, 105.1046, 107.1733, 102.1797, 85.7618),\n",
       " ('2021-01-05 18:40:00', 98.8266, 105.0771, 106.9027, 102.132, 85.5443),\n",
       " ('2021-01-05 18:41:00', 98.7887, 105.0029, 106.8749, 102.1396, 85.5299)]"
      ]
     },
     "execution_count": 70,
     "metadata": {},
     "output_type": "execute_result"
    }
   ],
   "source": [
    "res[:5]"
   ]
  },
  {
   "cell_type": "code",
   "execution_count": 71,
   "id": "26d16a57",
   "metadata": {},
   "outputs": [
    {
     "data": {
      "text/plain": [
       "66425"
      ]
     },
     "execution_count": 71,
     "metadata": {},
     "output_type": "execute_result"
    }
   ],
   "source": [
    "len(res)"
   ]
  },
  {
   "cell_type": "code",
   "execution_count": 72,
   "id": "8fc5731d",
   "metadata": {},
   "outputs": [],
   "source": [
    "# Close db connection\n",
    "con.close()"
   ]
  },
  {
<<<<<<< HEAD
   "cell_type": "markdown",
   "id": "a238cbd0",
   "metadata": {},
   "source": [
    "## Vectorized Backtesting\n",
    "\n",
    "There are 3 main types of strategies you can backtest:\n",
    "- Simple moving averages (SMA) based strategies\n",
    "- Momentum strategies\n",
    "- Mean-reversion strategies\n",
    "\n",
    "Vectorized means we use vectors and it just makes backtesting more efficient and allows us to use packages such as numpy and pandas.\n",
    "\n",
    "Vectorized backtesting should be considered in:\n",
    "- Simple trading strategies\n",
    "- Interactive strategy exploration\n",
    "- Visualization as major goal\n",
    "- Comprehensive backtesting programs"
   ]
  },
  {
   "cell_type": "code",
   "execution_count": 78,
   "id": "97ca38c6",
   "metadata": {},
   "outputs": [],
   "source": [
    "# Vectorization with pandas\n",
    "import pandas as pd"
   ]
  },
  {
   "cell_type": "code",
   "execution_count": 87,
   "id": "24a1e587",
   "metadata": {},
   "outputs": [
    {
     "data": {
      "text/plain": [
       "array([[ 0,  1,  2],\n",
       "       [ 3,  4,  5],\n",
       "       [ 6,  7,  8],\n",
       "       [ 9, 10, 11],\n",
       "       [12, 13, 14],\n",
       "       [15, 16, 17]])"
      ]
     },
     "execution_count": 87,
     "metadata": {},
     "output_type": "execute_result"
    }
   ],
   "source": [
    "# Generate 1d vector and reshape to a matrix using numpy\n",
    "a = np.arange(18).reshape(6, 3)\n",
    "a"
   ]
  },
  {
   "cell_type": "code",
   "execution_count": 88,
   "id": "09a51494",
   "metadata": {},
   "outputs": [
    {
     "data": {
      "text/plain": [
       "['a', 'b', 'c']"
      ]
     },
     "execution_count": 88,
     "metadata": {},
     "output_type": "execute_result"
    }
   ],
   "source": [
    "columns = list('abc')\n",
    "columns"
   ]
  },
  {
   "cell_type": "code",
   "execution_count": 89,
   "id": "4814872c",
   "metadata": {},
   "outputs": [
    {
     "data": {
      "text/plain": [
       "DatetimeIndex(['2021-10-01', '2021-10-04', '2021-10-05', '2021-10-06',\n",
       "               '2021-10-07', '2021-10-08'],\n",
       "              dtype='datetime64[ns]', freq='B')"
      ]
     },
     "execution_count": 89,
     "metadata": {},
     "output_type": "execute_result"
    }
   ],
   "source": [
    "index = pd.date_range('2021-10-1', periods=6, freq='B')\n",
    "index"
   ]
  },
  {
   "cell_type": "code",
   "execution_count": 90,
   "id": "b71827b9",
   "metadata": {},
   "outputs": [
    {
     "data": {
      "text/html": [
       "<div>\n",
       "<style scoped>\n",
       "    .dataframe tbody tr th:only-of-type {\n",
       "        vertical-align: middle;\n",
       "    }\n",
       "\n",
       "    .dataframe tbody tr th {\n",
       "        vertical-align: top;\n",
       "    }\n",
       "\n",
       "    .dataframe thead th {\n",
       "        text-align: right;\n",
       "    }\n",
       "</style>\n",
       "<table border=\"1\" class=\"dataframe\">\n",
       "  <thead>\n",
       "    <tr style=\"text-align: right;\">\n",
       "      <th></th>\n",
       "      <th>a</th>\n",
       "      <th>b</th>\n",
       "      <th>c</th>\n",
       "    </tr>\n",
       "  </thead>\n",
       "  <tbody>\n",
       "    <tr>\n",
       "      <th>2021-10-01</th>\n",
       "      <td>0</td>\n",
       "      <td>1</td>\n",
       "      <td>2</td>\n",
       "    </tr>\n",
       "    <tr>\n",
       "      <th>2021-10-04</th>\n",
       "      <td>3</td>\n",
       "      <td>4</td>\n",
       "      <td>5</td>\n",
       "    </tr>\n",
       "    <tr>\n",
       "      <th>2021-10-05</th>\n",
       "      <td>6</td>\n",
       "      <td>7</td>\n",
       "      <td>8</td>\n",
       "    </tr>\n",
       "    <tr>\n",
       "      <th>2021-10-06</th>\n",
       "      <td>9</td>\n",
       "      <td>10</td>\n",
       "      <td>11</td>\n",
       "    </tr>\n",
       "    <tr>\n",
       "      <th>2021-10-07</th>\n",
       "      <td>12</td>\n",
       "      <td>13</td>\n",
       "      <td>14</td>\n",
       "    </tr>\n",
       "    <tr>\n",
       "      <th>2021-10-08</th>\n",
       "      <td>15</td>\n",
       "      <td>16</td>\n",
       "      <td>17</td>\n",
       "    </tr>\n",
       "  </tbody>\n",
       "</table>\n",
       "</div>"
      ],
      "text/plain": [
       "             a   b   c\n",
       "2021-10-01   0   1   2\n",
       "2021-10-04   3   4   5\n",
       "2021-10-05   6   7   8\n",
       "2021-10-06   9  10  11\n",
       "2021-10-07  12  13  14\n",
       "2021-10-08  15  16  17"
      ]
     },
     "execution_count": 90,
     "metadata": {},
     "output_type": "execute_result"
    }
   ],
   "source": [
    "df = pd.DataFrame(a, columns=columns, index=index)\n",
    "df"
   ]
  },
  {
   "cell_type": "code",
   "execution_count": 95,
   "id": "cdf273e4",
   "metadata": {},
   "outputs": [
    {
     "data": {
      "text/html": [
       "<div>\n",
       "<style scoped>\n",
       "    .dataframe tbody tr th:only-of-type {\n",
       "        vertical-align: middle;\n",
       "    }\n",
       "\n",
       "    .dataframe tbody tr th {\n",
       "        vertical-align: top;\n",
       "    }\n",
       "\n",
       "    .dataframe thead th {\n",
       "        text-align: right;\n",
       "    }\n",
       "</style>\n",
       "<table border=\"1\" class=\"dataframe\">\n",
       "  <thead>\n",
       "    <tr style=\"text-align: right;\">\n",
       "      <th></th>\n",
       "      <th>a</th>\n",
       "      <th>b</th>\n",
       "      <th>c</th>\n",
       "    </tr>\n",
       "  </thead>\n",
       "  <tbody>\n",
       "    <tr>\n",
       "      <th>2021-10-01</th>\n",
       "      <td>0</td>\n",
       "      <td>3</td>\n",
       "      <td>6</td>\n",
       "    </tr>\n",
       "    <tr>\n",
       "      <th>2021-10-04</th>\n",
       "      <td>9</td>\n",
       "      <td>12</td>\n",
       "      <td>15</td>\n",
       "    </tr>\n",
       "    <tr>\n",
       "      <th>2021-10-05</th>\n",
       "      <td>18</td>\n",
       "      <td>21</td>\n",
       "      <td>24</td>\n",
       "    </tr>\n",
       "    <tr>\n",
       "      <th>2021-10-06</th>\n",
       "      <td>27</td>\n",
       "      <td>30</td>\n",
       "      <td>33</td>\n",
       "    </tr>\n",
       "    <tr>\n",
       "      <th>2021-10-07</th>\n",
       "      <td>36</td>\n",
       "      <td>39</td>\n",
       "      <td>42</td>\n",
       "    </tr>\n",
       "    <tr>\n",
       "      <th>2021-10-08</th>\n",
       "      <td>45</td>\n",
       "      <td>48</td>\n",
       "      <td>51</td>\n",
       "    </tr>\n",
       "  </tbody>\n",
       "</table>\n",
       "</div>"
      ],
      "text/plain": [
       "             a   b   c\n",
       "2021-10-01   0   3   6\n",
       "2021-10-04   9  12  15\n",
       "2021-10-05  18  21  24\n",
       "2021-10-06  27  30  33\n",
       "2021-10-07  36  39  42\n",
       "2021-10-08  45  48  51"
      ]
     },
     "execution_count": 95,
     "metadata": {},
     "output_type": "execute_result"
    }
   ],
   "source": [
    "# Calculations on the dataframe are treated as a matrix\n",
    "3 * df"
   ]
  },
  {
   "cell_type": "code",
   "execution_count": 92,
   "id": "90a7e968",
   "metadata": {},
   "outputs": [
    {
     "data": {
      "text/plain": [
       "a    45\n",
       "b    51\n",
       "c    57\n",
       "dtype: int64"
      ]
     },
     "execution_count": 92,
     "metadata": {},
     "output_type": "execute_result"
    }
   ],
   "source": [
    "# Sum per column\n",
    "df.sum()"
   ]
  },
  {
   "cell_type": "code",
   "execution_count": 93,
   "id": "bb0e8d79",
   "metadata": {},
   "outputs": [
    {
     "data": {
      "text/plain": [
       "a    7.5\n",
       "b    8.5\n",
       "c    9.5\n",
       "dtype: float64"
      ]
     },
     "execution_count": 93,
     "metadata": {},
     "output_type": "execute_result"
    }
   ],
   "source": [
    "# Mean per column\n",
    "np.mean(df)"
   ]
  },
  {
   "cell_type": "code",
   "execution_count": 97,
   "id": "6b8fd085",
   "metadata": {},
   "outputs": [
    {
     "data": {
      "text/plain": [
       "2021-10-01     2\n",
       "2021-10-04     8\n",
       "2021-10-05    14\n",
       "2021-10-06    20\n",
       "2021-10-07    26\n",
       "2021-10-08    32\n",
       "Freq: B, dtype: int32"
      ]
     },
     "execution_count": 97,
     "metadata": {},
     "output_type": "execute_result"
    }
   ],
   "source": [
    "# Column-wise operations are done by selecting each column\n",
    "df[\"a\"] + df['c']"
   ]
  },
  {
   "cell_type": "code",
   "execution_count": 98,
   "id": "beebb279",
   "metadata": {},
   "outputs": [
    {
     "data": {
      "text/plain": [
       "2021-10-01    False\n",
       "2021-10-04    False\n",
       "2021-10-05     True\n",
       "2021-10-06     True\n",
       "2021-10-07     True\n",
       "2021-10-08     True\n",
       "Freq: B, Name: a, dtype: bool"
      ]
     },
     "execution_count": 98,
     "metadata": {},
     "output_type": "execute_result"
    }
   ],
   "source": [
    "# Boolean results can be achieved\n",
    "df['a'] > 5"
   ]
  },
  {
   "cell_type": "code",
   "execution_count": 99,
   "id": "ade885b8",
   "metadata": {},
   "outputs": [
    {
     "data": {
      "text/html": [
       "<div>\n",
       "<style scoped>\n",
       "    .dataframe tbody tr th:only-of-type {\n",
       "        vertical-align: middle;\n",
       "    }\n",
       "\n",
       "    .dataframe tbody tr th {\n",
       "        vertical-align: top;\n",
       "    }\n",
       "\n",
       "    .dataframe thead th {\n",
       "        text-align: right;\n",
       "    }\n",
       "</style>\n",
       "<table border=\"1\" class=\"dataframe\">\n",
       "  <thead>\n",
       "    <tr style=\"text-align: right;\">\n",
       "      <th></th>\n",
       "      <th>a</th>\n",
       "      <th>b</th>\n",
       "      <th>c</th>\n",
       "    </tr>\n",
       "  </thead>\n",
       "  <tbody>\n",
       "    <tr>\n",
       "      <th>2021-10-05</th>\n",
       "      <td>6</td>\n",
       "      <td>7</td>\n",
       "      <td>8</td>\n",
       "    </tr>\n",
       "    <tr>\n",
       "      <th>2021-10-06</th>\n",
       "      <td>9</td>\n",
       "      <td>10</td>\n",
       "      <td>11</td>\n",
       "    </tr>\n",
       "    <tr>\n",
       "      <th>2021-10-07</th>\n",
       "      <td>12</td>\n",
       "      <td>13</td>\n",
       "      <td>14</td>\n",
       "    </tr>\n",
       "    <tr>\n",
       "      <th>2021-10-08</th>\n",
       "      <td>15</td>\n",
       "      <td>16</td>\n",
       "      <td>17</td>\n",
       "    </tr>\n",
       "  </tbody>\n",
       "</table>\n",
       "</div>"
      ],
      "text/plain": [
       "             a   b   c\n",
       "2021-10-05   6   7   8\n",
       "2021-10-06   9  10  11\n",
       "2021-10-07  12  13  14\n",
       "2021-10-08  15  16  17"
      ]
     },
     "execution_count": 99,
     "metadata": {},
     "output_type": "execute_result"
    }
   ],
   "source": [
    "df[df['a'] > 5]"
   ]
  },
  {
   "cell_type": "markdown",
   "id": "66cfb342",
   "metadata": {},
   "source": [
    "### Strategies based on Simple Moving Averages"
   ]
  },
  {
   "cell_type": "code",
   "execution_count": null,
   "id": "efe5c9e8",
   "metadata": {},
   "outputs": [],
   "source": []
  },
  {
   "cell_type": "code",
   "execution_count": null,
   "id": "d5289df1",
   "metadata": {},
   "outputs": [],
   "source": []
  }
 ],
 "metadata": {
  "kernelspec": {
   "display_name": "Python 3 (ipykernel)",
   "language": "python",
   "name": "python3"
  },
  "language_info": {
   "codemirror_mode": {
    "name": "ipython",
    "version": 3
   },
   "file_extension": ".py",
   "mimetype": "text/x-python",
   "name": "python",
   "nbconvert_exporter": "python",
   "pygments_lexer": "ipython3",
   "version": "3.9.7"
  }
 },
 "nbformat": 4,
 "nbformat_minor": 5
}
