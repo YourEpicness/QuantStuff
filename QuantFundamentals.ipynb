{
 "cells": [
  {
   "cell_type": "markdown",
   "id": "c05ffc95",
   "metadata": {},
   "source": [
    "# Quant Fundamentals"
   ]
  },
  {
   "cell_type": "code",
   "execution_count": 4,
   "id": "9290a830",
   "metadata": {},
   "outputs": [],
   "source": [
    "# The normal stuff\n",
    "import pandas as pd\n",
    "import numpy as np\n",
    "import matplotlib.pyplot as plt\n",
    "\n",
    "# Other important stuff\n",
    "import configparser"
   ]
  },
  {
   "cell_type": "code",
   "execution_count": 2,
   "id": "97e2f137",
   "metadata": {},
   "outputs": [],
   "source": [
    "# Nasdaq Data API\n",
    "import quandl as q"
   ]
  },
  {
   "cell_type": "code",
   "execution_count": 5,
   "id": "f08f38ec",
   "metadata": {},
   "outputs": [
    {
     "data": {
      "text/plain": [
       "['./quant.cfg']"
      ]
     },
     "execution_count": 5,
     "metadata": {},
     "output_type": "execute_result"
    }
   ],
   "source": [
    "# Create config to store \"secret\" values such as api key\n",
    "config = configparser.ConfigParser()\n",
    "config.read('./quant.cfg')"
   ]
  },
  {
   "cell_type": "code",
   "execution_count": 7,
   "id": "a5a928f3",
   "metadata": {},
   "outputs": [
    {
     "data": {
      "text/html": [
       "<div>\n",
       "<style scoped>\n",
       "    .dataframe tbody tr th:only-of-type {\n",
       "        vertical-align: middle;\n",
       "    }\n",
       "\n",
       "    .dataframe tbody tr th {\n",
       "        vertical-align: top;\n",
       "    }\n",
       "\n",
       "    .dataframe thead th {\n",
       "        text-align: right;\n",
       "    }\n",
       "</style>\n",
       "<table border=\"1\" class=\"dataframe\">\n",
       "  <thead>\n",
       "    <tr style=\"text-align: right;\">\n",
       "      <th></th>\n",
       "      <th>Value</th>\n",
       "    </tr>\n",
       "    <tr>\n",
       "      <th>Date</th>\n",
       "      <th></th>\n",
       "    </tr>\n",
       "  </thead>\n",
       "  <tbody>\n",
       "    <tr>\n",
       "      <th>2009-01-02</th>\n",
       "      <td>0.00</td>\n",
       "    </tr>\n",
       "    <tr>\n",
       "      <th>2009-01-03</th>\n",
       "      <td>0.00</td>\n",
       "    </tr>\n",
       "    <tr>\n",
       "      <th>2009-01-04</th>\n",
       "      <td>0.00</td>\n",
       "    </tr>\n",
       "    <tr>\n",
       "      <th>2009-01-05</th>\n",
       "      <td>0.00</td>\n",
       "    </tr>\n",
       "    <tr>\n",
       "      <th>2009-01-06</th>\n",
       "      <td>0.00</td>\n",
       "    </tr>\n",
       "    <tr>\n",
       "      <th>...</th>\n",
       "      <td>...</td>\n",
       "    </tr>\n",
       "    <tr>\n",
       "      <th>2021-12-24</th>\n",
       "      <td>50785.69</td>\n",
       "    </tr>\n",
       "    <tr>\n",
       "      <th>2021-12-25</th>\n",
       "      <td>50814.92</td>\n",
       "    </tr>\n",
       "    <tr>\n",
       "      <th>2021-12-26</th>\n",
       "      <td>50470.89</td>\n",
       "    </tr>\n",
       "    <tr>\n",
       "      <th>2021-12-27</th>\n",
       "      <td>50801.11</td>\n",
       "    </tr>\n",
       "    <tr>\n",
       "      <th>2021-12-28</th>\n",
       "      <td>50692.30</td>\n",
       "    </tr>\n",
       "  </tbody>\n",
       "</table>\n",
       "<p>4744 rows × 1 columns</p>\n",
       "</div>"
      ],
      "text/plain": [
       "               Value\n",
       "Date                \n",
       "2009-01-02      0.00\n",
       "2009-01-03      0.00\n",
       "2009-01-04      0.00\n",
       "2009-01-05      0.00\n",
       "2009-01-06      0.00\n",
       "...              ...\n",
       "2021-12-24  50785.69\n",
       "2021-12-25  50814.92\n",
       "2021-12-26  50470.89\n",
       "2021-12-27  50801.11\n",
       "2021-12-28  50692.30\n",
       "\n",
       "[4744 rows x 1 columns]"
      ]
     },
     "execution_count": 7,
     "metadata": {},
     "output_type": "execute_result"
    }
   ],
   "source": [
    "# Takes in the Nasdaq Data Link Code of the selection and api key\n",
    "data = q.get('BCHAIN/MKPRU', api_key = config['quandl']['api_key'])\n",
    "data"
   ]
  },
  {
   "cell_type": "code",
   "execution_count": 8,
   "id": "d7c31a28",
   "metadata": {},
   "outputs": [
    {
     "name": "stdout",
     "output_type": "stream",
     "text": [
      "<class 'pandas.core.frame.DataFrame'>\n",
      "DatetimeIndex: 4744 entries, 2009-01-02 to 2021-12-28\n",
      "Data columns (total 1 columns):\n",
      " #   Column  Non-Null Count  Dtype  \n",
      "---  ------  --------------  -----  \n",
      " 0   Value   4744 non-null   float64\n",
      "dtypes: float64(1)\n",
      "memory usage: 74.1 KB\n"
     ]
    }
   ],
   "source": [
    "data.info()"
   ]
  },
  {
   "cell_type": "code",
   "execution_count": 9,
   "id": "c209c5f7",
   "metadata": {},
   "outputs": [
    {
     "data": {
      "text/plain": [
       "Date\n",
       "2009-12-31        0.000000\n",
       "2010-12-31        0.299998\n",
       "2011-12-31        4.470000\n",
       "2012-12-31       13.570000\n",
       "2013-12-31      746.900000\n",
       "2014-12-31      315.700000\n",
       "2015-12-31      428.230000\n",
       "2016-12-31      958.120000\n",
       "2017-12-31    14165.575000\n",
       "2018-12-31     3791.545833\n",
       "2019-12-31     7219.600000\n",
       "2020-12-31    28856.590000\n",
       "2021-12-31    50692.300000\n",
       "Freq: A-DEC, Name: Value, dtype: float64"
      ]
     },
     "execution_count": 9,
     "metadata": {},
     "output_type": "execute_result"
    }
   ],
   "source": [
    "# Resamples data from daily values to yearly values\n",
    "data['Value'].resample('A').last()"
   ]
  },
  {
   "cell_type": "code",
   "execution_count": null,
   "id": "bc392746",
   "metadata": {},
   "outputs": [],
   "source": []
  }
 ],
 "metadata": {
  "kernelspec": {
   "display_name": "Python 3 (ipykernel)",
   "language": "python",
   "name": "python3"
  },
  "language_info": {
   "codemirror_mode": {
    "name": "ipython",
    "version": 3
   },
   "file_extension": ".py",
   "mimetype": "text/x-python",
   "name": "python",
   "nbconvert_exporter": "python",
   "pygments_lexer": "ipython3",
   "version": "3.9.7"
  }
 },
 "nbformat": 4,
 "nbformat_minor": 5
}
